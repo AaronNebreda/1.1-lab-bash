{
 "cells": [
  {
   "cell_type": "markdown",
   "id": "494c4368",
   "metadata": {},
   "source": [
    "1. Ubícate en la carpeta en la que ejecutando en el terminal. Al ejecutar ls"
   ]
  },
  {
   "cell_type": "markdown",
   "id": "cf633fe5",
   "metadata": {},
   "source": [
    "ls"
   ]
  },
  {
   "cell_type": "markdown",
   "id": "fd8ebf6d",
   "metadata": {},
   "source": [
    "    Imprime en consola Hello World."
   ]
  },
  {
   "cell_type": "markdown",
   "id": "33d20d1e",
   "metadata": {},
   "source": [
    "echo 'Hello World.'"
   ]
  },
  {
   "cell_type": "markdown",
   "id": "d03d4075",
   "metadata": {},
   "source": [
    "    Crea un directorio nuevo llamado new_dir."
   ]
  },
  {
   "cell_type": "markdown",
   "id": "aae09ca2",
   "metadata": {},
   "source": [
    "mkdir new_dir"
   ]
  },
  {
   "cell_type": "markdown",
   "id": "0fe8c3bb",
   "metadata": {},
   "source": [
    "    Elimina ese directorio."
   ]
  },
  {
   "cell_type": "markdown",
   "id": "e8e7b101",
   "metadata": {},
   "source": [
    " rm new_dir"
   ]
  },
  {
   "cell_type": "markdown",
   "id": "04e0aa75",
   "metadata": {},
   "source": [
    "    Copia el archivo sed.txt dentro de la carpeta lorem a la carpeta lorem-copy. TIP: Puede ser necesario crear la carpeta lorem-copy primero."
   ]
  },
  {
   "cell_type": "markdown",
   "id": "25718bca",
   "metadata": {},
   "source": [
    "mkdir lorem-copy\n",
    "cp lorem/sed.txt lorem-copy"
   ]
  },
  {
   "cell_type": "markdown",
   "id": "303d2edf",
   "metadata": {},
   "source": [
    "    Copia los otros dos archivos de la carpeta lorem a la carpeta lorem-copy en una sola línea."
   ]
  },
  {
   "cell_type": "markdown",
   "id": "5de0e968",
   "metadata": {},
   "source": [
    "cp lorem/at.txt,lorem/lorem.txt lorem-copy"
   ]
  },
  {
   "cell_type": "markdown",
   "id": "da8b81bf",
   "metadata": {},
   "source": [
    "    Muestra el contenido del archivo sed.txt dentro de la carpeta lorem."
   ]
  },
  {
   "cell_type": "markdown",
   "id": "c246f16e",
   "metadata": {},
   "source": [
    "cat lorem/sed.txt"
   ]
  },
  {
   "cell_type": "markdown",
   "id": "455c4b1a",
   "metadata": {},
   "source": [
    "    Muestra el contenido de los archivos at.txt y lorem.txt dentro de la carpeta lorem."
   ]
  },
  {
   "cell_type": "markdown",
   "id": "bd97070d",
   "metadata": {},
   "source": [
    "cat lorem/at.txt, lorem/lorem.txt"
   ]
  },
  {
   "cell_type": "markdown",
   "id": "020b150e",
   "metadata": {},
   "source": [
    "    Visualiza las primeras 3 líneas del archivo sed.txt dentro de la carpeta lorem-copy"
   ]
  },
  {
   "cell_type": "markdown",
   "id": "66f0cdf6",
   "metadata": {},
   "source": [
    "Get-Content lorem/sed.txt -head 3"
   ]
  },
  {
   "cell_type": "markdown",
   "id": "4085dcc4",
   "metadata": {},
   "source": [
    "    Visualiza las ultimas 3 líneas del archivo sed.txt dentro de la carpeta lorem-copy"
   ]
  },
  {
   "cell_type": "markdown",
   "id": "1fa20773",
   "metadata": {},
   "source": [
    "Get-Content lorem/sed.txt -tail 3"
   ]
  },
  {
   "cell_type": "markdown",
   "id": "404f3064",
   "metadata": {},
   "source": [
    "    Añade Homo homini lupus. al final de archivo sed.txt dentro de la carpeta lorem-copy."
   ]
  },
  {
   "cell_type": "markdown",
   "id": "6d49e7be",
   "metadata": {},
   "source": [
    "echo 'Homo homini lupus.' >> lorem/sed.txt"
   ]
  },
  {
   "cell_type": "markdown",
   "id": "ab6e46cc",
   "metadata": {},
   "source": [
    "    Visualiza las últimas 3 líneas del archivo sed.txt dentro de la carpeta lorem-copy. Deberías ver ahora Homo homini lupus.."
   ]
  },
  {
   "cell_type": "markdown",
   "id": "d45145dd",
   "metadata": {},
   "source": [
    "Get-Content lorem/sed.txt -tail 3"
   ]
  },
  {
   "cell_type": "markdown",
   "id": "e9a675e8",
   "metadata": {},
   "source": [
    "    Sustituye todas las apariciones de et por ET del archivo at.txt dentro de la carpeta lorem-copy. Deberás usar sed."
   ]
  },
  {
   "cell_type": "markdown",
   "id": "a8a851f0",
   "metadata": {},
   "source": [
    " (Get-Content -path lorem-copy/at.txt -Raw) -replace 'et','ET'"
   ]
  },
  {
   "cell_type": "markdown",
   "id": "ccd652b6",
   "metadata": {},
   "source": [
    "    Encuentra al usuario activo en el sistema."
   ]
  },
  {
   "cell_type": "markdown",
   "id": "9f076cf9",
   "metadata": {},
   "source": [
    "whoami"
   ]
  },
  {
   "cell_type": "markdown",
   "id": "f6d2a505",
   "metadata": {},
   "source": [
    "    Encuentra dónde estás en tu sistema de ficheros."
   ]
  },
  {
   "cell_type": "markdown",
   "id": "8b4d44f2",
   "metadata": {},
   "source": [
    "pwd"
   ]
  },
  {
   "cell_type": "markdown",
   "id": "479ffe2f",
   "metadata": {},
   "source": [
    "    Lista los archivos que terminan por .txt en la carpeta lorem."
   ]
  },
  {
   "cell_type": "markdown",
   "id": "531d2f26",
   "metadata": {},
   "source": [
    "ls *.txt"
   ]
  },
  {
   "cell_type": "markdown",
   "id": "7410e3d9",
   "metadata": {},
   "source": [
    "    Cuenta el número de líneas que tiene el archivo sed.txt dentro de la carpeta lorem."
   ]
  },
  {
   "cell_type": "markdown",
   "id": "86efc494",
   "metadata": {},
   "source": [
    " Get-content C:\\Users\\aaron\\AAROON\\IRONHACK_BOOTCAMP_DATA\\1_python\\1.1-lab-bash\\lorem\\sed.txt | Measure-Object -Line"
   ]
  },
  {
   "cell_type": "markdown",
   "id": "f1cef00d",
   "metadata": {},
   "source": [
    "# me cambio a bash"
   ]
  },
  {
   "cell_type": "markdown",
   "id": "fad656a5",
   "metadata": {},
   "source": [
    "    Cuenta el número de archivos que empiezan por lorem que están en este directorio y en directorios internos."
   ]
  },
  {
   "cell_type": "markdown",
   "id": "ef9be7fc",
   "metadata": {},
   "source": [
    "find . -iname \"lorem*\" -type f |wc -l"
   ]
  },
  {
   "cell_type": "markdown",
   "id": "7b3f2c86",
   "metadata": {},
   "source": [
    "    Encuentra todas las apariciones de et en at.txt dentro de la carpeta lorem."
   ]
  },
  {
   "cell_type": "markdown",
   "id": "3c47c459",
   "metadata": {},
   "source": [
    "    Cuenta el número de apariciones del string et en at.txt dentro de la carpeta lorem."
   ]
  },
  {
   "cell_type": "markdown",
   "id": "5273dfee",
   "metadata": {},
   "source": [
    "    Cuenta el número de apariciones del string et en todos los archivos del directorio lorem-copy."
   ]
  }
 ],
 "metadata": {
  "kernelspec": {
   "display_name": "Python 3 (ipykernel)",
   "language": "python",
   "name": "python3"
  },
  "language_info": {
   "codemirror_mode": {
    "name": "ipython",
    "version": 3
   },
   "file_extension": ".py",
   "mimetype": "text/x-python",
   "name": "python",
   "nbconvert_exporter": "python",
   "pygments_lexer": "ipython3",
   "version": "3.9.12"
  }
 },
 "nbformat": 4,
 "nbformat_minor": 5
}
